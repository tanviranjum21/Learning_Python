{
 "cells": [
  {
   "cell_type": "markdown",
   "id": "f3798100-912c-4b27-b687-c41cf740623a",
   "metadata": {},
   "source": [
    "# What is Python?"
   ]
  },
  {
   "cell_type": "markdown",
   "id": "2d3614f3-b912-4324-88da-f5eff1e3a62f",
   "metadata": {},
   "source": [
    "Almost everyone in present world at least known with little bit about technology know about python. Python is one of the most popular and easy language. It specifically popular because of it's easy and almost english language code writing. But in depth python is very sophisticated language. So you write `1+2` in python interepreter and they understand it like human and gives you an output but how they does that. Python is a very smart language having a smart interpreter.\n",
    "\n",
    "**Python** is an **object-oriented** programming language like Java. Python uses code modules that are interchangeable instead of a single long list of instructions that was standard for functional programming languages. The standard implementation of python is called “cpython”. It is the default and widely used implementation of Python. Python doesn’t convert its code into machine code, something that hardware can understand. It actually converts it into something called byte code. So within python, compilation happens, but it’s just not into a machine language. It is into byte code (.pyc or .pyo) and this byte code can’t be understood by the CPU. So we need an interpreter called the python virtual machine to execute the byte codes."
   ]
  },
  {
   "cell_type": "markdown",
   "id": "0fdad0bb-1abb-494b-a2f6-a32de28172b4",
   "metadata": {},
   "source": [
    "The Python source code goes through the following to generate an executable code : \n",
    " \n",
    "**Step 1:** The python compiler reads a python source code or instruction. Then it verifies that the instruction is well-formatted, i.e. it checks the syntax of each line. If it encounters an error, it immediately halts the translation and shows an error message. And in this stage python code goes through Lexing and Parser. Lexers breaks the line of codes to token and parser uses token to generate a structure, called an **Abstract Syntax Tree** to depict the relationship between these tokens.\n",
    "\n",
    "**Step 2:** If there is no error, i.e. if the python instruction or source code is well-formatted then the compiler translates it into its equivalent form in an intermediate language called “Byte code”. This byte code is basically object(s).\n",
    "\n",
    "**Step 3:** Byte code is then sent to the Python Virtual Machine(PVM) which is the python interpreter. PVM converts the python byte code into machine-executable code. If an error occurs during this interpretation then the conversion is halted with an error message."
   ]
  },
  {
   "cell_type": "markdown",
   "id": "68670257-a83f-4205-b68c-7f7884edd911",
   "metadata": {},
   "source": [
    "# Let's do some magic "
   ]
  },
  {
   "cell_type": "markdown",
   "id": "79c5ceae-e9ad-48b3-9404-549ec50bc356",
   "metadata": {},
   "source": [
    "So we will run some print operation here. In this print operation we can see that if we call print() function which is a built in function to print something written inside. And yes **Python is case sensitive** here \"Print()\" and \"print()\" is diffrerent. So beware of that."
   ]
  },
  {
   "cell_type": "code",
   "execution_count": 2,
   "id": "150f1d48-a16f-477e-a1b4-f7505bf94b80",
   "metadata": {},
   "outputs": [
    {
     "name": "stdout",
     "output_type": "stream",
     "text": [
      "MD Tanvir Anjum\n"
     ]
    }
   ],
   "source": [
    "print(\"MD Tanvir Anjum\") #Here we have printed a string. "
   ]
  },
  {
   "cell_type": "code",
   "execution_count": 4,
   "id": "87f7c172-4b32-4d1d-97ba-33cf21cb144d",
   "metadata": {},
   "outputs": [
    {
     "name": "stdout",
     "output_type": "stream",
     "text": [
      "**********\n"
     ]
    }
   ],
   "source": [
    "print(\"*\" * 10)"
   ]
  },
  {
   "cell_type": "markdown",
   "id": "3faf0054-ae6d-4df1-b944-28d4ed7084f7",
   "metadata": {},
   "source": [
    "So what actually happened here. In the print statement we have stated a string and outside of the string we have done a simple multiplication operation that is like `1*10 = 10` so here the `*` string has recieved a command to run 10 times and show. So that is the output."
   ]
  },
  {
   "cell_type": "markdown",
   "id": "9e679fa4-5f9c-4bf8-9234-f1d284b50f78",
   "metadata": {},
   "source": [
    "## So, now let's see variables"
   ]
  },
  {
   "cell_type": "markdown",
   "id": "4a5fe263-470d-4a33-a41f-3e9ae9b740d9",
   "metadata": {},
   "source": [
    "Variables are like jar where you put something or hold something. So here variables are to hold integer or string or something you want to use later. The structure is, you have to give a name to the variable and also give them a value and define data type if necessary."
   ]
  },
  {
   "cell_type": "code",
   "execution_count": 5,
   "id": "fd9b6cb7-3ee6-4b2e-8fab-b998929614ce",
   "metadata": {},
   "outputs": [
    {
     "name": "stdout",
     "output_type": "stream",
     "text": [
      "10\n"
     ]
    }
   ],
   "source": [
    "price = 10\n",
    "print(price)"
   ]
  },
  {
   "cell_type": "markdown",
   "id": "89a3aead-6a06-4dd4-bb28-8c2e9b81bf38",
   "metadata": {},
   "source": [
    "Here in the price variable we have stored 10 then we have printed the variable not the value. So in this way the value becomes dynamic because whatever we store in price variable will be shown as output."
   ]
  },
  {
   "cell_type": "code",
   "execution_count": 6,
   "id": "4499de46-c688-4896-bde2-2059179efff6",
   "metadata": {},
   "outputs": [
    {
     "name": "stdout",
     "output_type": "stream",
     "text": [
      "30\n"
     ]
    }
   ],
   "source": [
    "price = 10\n",
    "price = 30\n",
    "print(price)"
   ]
  },
  {
   "cell_type": "markdown",
   "id": "02af2a8d-b5ea-4bbd-90ac-857ecc050c6c",
   "metadata": {},
   "source": [
    "OWW!! why is it showing 30 instead of 10. Because as we know python runs the code line by line here after we have said price = 10 in the second line we have declared price = 30, so we have erased the previous one to new one. So when we put print statement in line 3 it has only one value 30."
   ]
  },
  {
   "cell_type": "code",
   "execution_count": 7,
   "id": "21fcc3a7-95e6-477e-a88d-53d67b6a71fe",
   "metadata": {},
   "outputs": [
    {
     "name": "stdout",
     "output_type": "stream",
     "text": [
      "10\n",
      "30.2\n"
     ]
    }
   ],
   "source": [
    "vegetable = 10\n",
    "rice = 30.2\n",
    "print(vegetable)\n",
    "print(rice)"
   ]
  },
  {
   "cell_type": "markdown",
   "id": "99a232bc-ab83-4f10-b63e-8a2ab730620a",
   "metadata": {},
   "source": [
    "Python is very smart to handle datatypes. Here you don't need to predefine the data type. Here vegetable is int type and rice is float (fraction) and when you are printing they are being printed as like the input."
   ]
  },
  {
   "cell_type": "markdown",
   "id": "76736467-08af-4638-8738-cc2d56545ef2",
   "metadata": {},
   "source": [
    "Let's understand data type by solving a problem\n",
    "\n",
    "**We check in a patient named ihsan. He is 26 years old and a new patient.** \n",
    "\n",
    "So how can we solve this problem with our knowledge ?"
   ]
  },
  {
   "cell_type": "code",
   "execution_count": 10,
   "id": "1f0f235e-9e9d-49ba-9bf4-358b0a705fe1",
   "metadata": {},
   "outputs": [
    {
     "name": "stdout",
     "output_type": "stream",
     "text": [
      "Ihsan\n",
      "26\n",
      "True\n"
     ]
    }
   ],
   "source": [
    "patient_name = \"Ihsan\" #string input\n",
    "patient_age = 26 #int input\n",
    "is_new = True #boolean input\n",
    "print (patient_name)\n",
    "print(patient_age)\n",
    "print(is_new)"
   ]
  },
  {
   "cell_type": "markdown",
   "id": "4ae082fc-2922-4f56-952b-8497ac5b0a2b",
   "metadata": {},
   "source": [
    "Now for the same problem if we didn't know the patient name beforehand? How should we solve the problem then?"
   ]
  },
  {
   "cell_type": "code",
   "execution_count": 11,
   "id": "86106b40-c4a8-408e-bdb1-6e0d3345b6df",
   "metadata": {},
   "outputs": [
    {
     "name": "stdin",
     "output_type": "stream",
     "text": [
      "Can you please tell me your name?  Tanvir\n"
     ]
    },
    {
     "name": "stdout",
     "output_type": "stream",
     "text": [
      "Tanvir\n"
     ]
    },
    {
     "name": "stdin",
     "output_type": "stream",
     "text": [
      "Great, can you please tell me your age?  25\n"
     ]
    },
    {
     "name": "stdout",
     "output_type": "stream",
     "text": [
      "25\n"
     ]
    },
    {
     "name": "stdin",
     "output_type": "stream",
     "text": [
      "Are you new or visited before? new\n"
     ]
    },
    {
     "name": "stdout",
     "output_type": "stream",
     "text": [
      "new\n"
     ]
    }
   ],
   "source": [
    "patient_name = input(\"Can you please tell me your name? \")\n",
    "print(patient_name)\n",
    "patient_age = input(\"Great, can you please tell me your age? \")\n",
    "print(patient_age)\n",
    "is_new = input(\"Are you new or visited before?\" )\n",
    "print(is_new)"
   ]
  },
  {
   "cell_type": "markdown",
   "id": "09059814-31e6-498f-bfa9-524797f2675d",
   "metadata": {},
   "source": [
    "Great!! So, we have used input function. This is amazing function of python. Here whatever you input it comes as string."
   ]
  },
  {
   "cell_type": "markdown",
   "id": "161066e2-75ad-4b6b-9053-eb7b7af899b1",
   "metadata": {},
   "source": [
    "## Assignment"
   ]
  },
  {
   "cell_type": "markdown",
   "id": "dda0083c-6043-4a90-bfbc-8eb1cb72bb99",
   "metadata": {},
   "source": [
    "So, I have some assignment or exercise you can say for you."
   ]
  },
  {
   "cell_type": "markdown",
   "id": "0786ae5e-244a-4334-98fe-f67436f22113",
   "metadata": {},
   "source": [
    "Marta is 20 years old, lives in virginia USA, Recently she has bought a new car now she is roaming around with it. One day she visited to her nephew's house and asked her nephew if he can lend her X (put your amount) dollar to fix her car's windshield.\n",
    "\n",
    "Your work is to describe this whole situation in code. Best of luck !!! :D"
   ]
  },
  {
   "cell_type": "code",
   "execution_count": null,
   "id": "58d35c6d-8c87-4fc4-b01f-affbe59b865c",
   "metadata": {},
   "outputs": [],
   "source": []
  }
 ],
 "metadata": {
  "kernelspec": {
   "display_name": "Python 3",
   "language": "python",
   "name": "python3"
  },
  "language_info": {
   "codemirror_mode": {
    "name": "ipython",
    "version": 3
   },
   "file_extension": ".py",
   "mimetype": "text/x-python",
   "name": "python",
   "nbconvert_exporter": "python",
   "pygments_lexer": "ipython3",
   "version": "3.8.10"
  }
 },
 "nbformat": 4,
 "nbformat_minor": 5
}
